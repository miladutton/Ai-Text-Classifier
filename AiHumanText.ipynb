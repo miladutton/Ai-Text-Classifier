{
 "cells": [
  {
   "cell_type": "code",
   "execution_count": 23,
   "id": "abbbaa50",
   "metadata": {},
   "outputs": [],
   "source": [
    "import pandas as pd\n",
    "import numpy as np\n",
    "import joblib\n",
    "import matplotlib.pyplot as plt\n",
    "import seaborn as sns\n",
    "\n",
    "from sklearn.model_selection import train_test_split, GridSearchCV\n",
    "from sklearn.feature_extraction.text import TfidfVectorizer\n",
    "from sklearn.linear_model import LogisticRegression\n",
    "from sklearn.svm import LinearSVC\n",
    "from sklearn.pipeline import Pipeline\n",
    "from sklearn.metrics import classification_report, confusion_matrix"
   ]
  },
  {
   "cell_type": "code",
   "execution_count": 24,
   "id": "2a930d9b",
   "metadata": {},
   "outputs": [
    {
     "data": {
      "text/html": [
       "<div>\n",
       "<style scoped>\n",
       "    .dataframe tbody tr th:only-of-type {\n",
       "        vertical-align: middle;\n",
       "    }\n",
       "\n",
       "    .dataframe tbody tr th {\n",
       "        vertical-align: top;\n",
       "    }\n",
       "\n",
       "    .dataframe thead th {\n",
       "        text-align: right;\n",
       "    }\n",
       "</style>\n",
       "<table border=\"1\" class=\"dataframe\">\n",
       "  <thead>\n",
       "    <tr style=\"text-align: right;\">\n",
       "      <th></th>\n",
       "      <th>id</th>\n",
       "      <th>text</th>\n",
       "      <th>label</th>\n",
       "      <th>prompt</th>\n",
       "      <th>model</th>\n",
       "      <th>date</th>\n",
       "    </tr>\n",
       "  </thead>\n",
       "  <tbody>\n",
       "    <tr>\n",
       "      <th>0</th>\n",
       "      <td>1</td>\n",
       "      <td>AI-generated content sample 1: This is an exam...</td>\n",
       "      <td>AI-generated</td>\n",
       "      <td>Explain the benefits of deep learning.</td>\n",
       "      <td>ChatGPT</td>\n",
       "      <td>2023-11-25</td>\n",
       "    </tr>\n",
       "    <tr>\n",
       "      <th>1</th>\n",
       "      <td>2</td>\n",
       "      <td>AI-generated content sample 2: This is an exam...</td>\n",
       "      <td>AI-generated</td>\n",
       "      <td>Write an article on the future of AI.</td>\n",
       "      <td>Bard</td>\n",
       "      <td>2024-11-15</td>\n",
       "    </tr>\n",
       "    <tr>\n",
       "      <th>2</th>\n",
       "      <td>3</td>\n",
       "      <td>Human-written text sample 3: This is an exampl...</td>\n",
       "      <td>Human-written</td>\n",
       "      <td>Editorial on the impact of technology in society.</td>\n",
       "      <td>Human</td>\n",
       "      <td>2024-08-11</td>\n",
       "    </tr>\n",
       "    <tr>\n",
       "      <th>3</th>\n",
       "      <td>4</td>\n",
       "      <td>AI-generated content sample 4: This is an exam...</td>\n",
       "      <td>AI-generated</td>\n",
       "      <td>Describe how neural networks work.</td>\n",
       "      <td>Claude</td>\n",
       "      <td>2024-04-27</td>\n",
       "    </tr>\n",
       "    <tr>\n",
       "      <th>4</th>\n",
       "      <td>5</td>\n",
       "      <td>Human-written text sample 5: This is an exampl...</td>\n",
       "      <td>Human-written</td>\n",
       "      <td>Personal essay on learning programming.</td>\n",
       "      <td>Human</td>\n",
       "      <td>2024-08-15</td>\n",
       "    </tr>\n",
       "  </tbody>\n",
       "</table>\n",
       "</div>"
      ],
      "text/plain": [
       "   id                                               text          label  \\\n",
       "0   1  AI-generated content sample 1: This is an exam...   AI-generated   \n",
       "1   2  AI-generated content sample 2: This is an exam...   AI-generated   \n",
       "2   3  Human-written text sample 3: This is an exampl...  Human-written   \n",
       "3   4  AI-generated content sample 4: This is an exam...   AI-generated   \n",
       "4   5  Human-written text sample 5: This is an exampl...  Human-written   \n",
       "\n",
       "                                              prompt    model        date  \n",
       "0             Explain the benefits of deep learning.  ChatGPT  2023-11-25  \n",
       "1              Write an article on the future of AI.     Bard  2024-11-15  \n",
       "2  Editorial on the impact of technology in society.    Human  2024-08-11  \n",
       "3                 Describe how neural networks work.   Claude  2024-04-27  \n",
       "4            Personal essay on learning programming.    Human  2024-08-15  "
      ]
     },
     "execution_count": 24,
     "metadata": {},
     "output_type": "execute_result"
    }
   ],
   "source": [
    "file_path = \"/Users/miladutton/Desktop/CSS/Python/AiText/ai_vs_human_text.csv\" \n",
    "df_uploaded = pd.read_csv(file_path)\n",
    "\n",
    "df_uploaded.head()\n"
   ]
  },
  {
   "cell_type": "code",
   "execution_count": 26,
   "id": "4f50bbeb",
   "metadata": {},
   "outputs": [
    {
     "name": "stdout",
     "output_type": "stream",
     "text": [
      "Class balance:\n",
      " label\n",
      "ai       507\n",
      "human    493\n",
      "Name: count, dtype: int64\n",
      "Shape: (1000, 2)\n"
     ]
    }
   ],
   "source": [
    "# clean\n",
    "df = df_uploaded[['text', 'label']].copy()\n",
    "\n",
    "# map labels\n",
    "df['label'] = (\n",
    "    df['label']\n",
    "    .astype(str).str.strip().str.lower()\n",
    "    .map({'ai-generated': 'ai', 'human-written': 'human', 'ai':'ai', 'human':'human'})\n",
    ")\n",
    "\n",
    "# drop \n",
    "df = df.dropna(subset=['text','label'])\n",
    "df['text'] = df['text'].astype(str).str.strip()\n",
    "df = df[df['text'].str.len() >= 5]\n",
    "\n",
    "print(\"Class balance:\\n\", df['label'].value_counts())\n",
    "print(\"Shape:\", df.shape)\n",
    "assert df['label'].nunique() == 2, \"Need both classes present.\""
   ]
  },
  {
   "cell_type": "code",
   "execution_count": 27,
   "id": "8749e0f3",
   "metadata": {},
   "outputs": [
    {
     "name": "stdout",
     "output_type": "stream",
     "text": [
      "Train/Test sizes: 800 / 200\n"
     ]
    }
   ],
   "source": [
    "# split\n",
    "X_train, X_test, y_train, y_test = train_test_split(\n",
    "    df['text'], df['label'], test_size=0.2, random_state=42, stratify=df['label']\n",
    ")\n",
    "print(f\"Train/Test sizes: {len(X_train)} / {len(X_test)}\")\n",
    "\n"
   ]
  },
  {
   "cell_type": "code",
   "execution_count": 28,
   "id": "c9b6dcbe",
   "metadata": {},
   "outputs": [
    {
     "name": "stdout",
     "output_type": "stream",
     "text": [
      "\n",
      "Accuracy (train/test)\n",
      "  LogisticRegression: 1.0 / 1.0\n",
      "  LinearSVC        : 1.0 / 1.0\n"
     ]
    }
   ],
   "source": [
    "# baseline models\n",
    "pipe_lr = Pipeline([\n",
    "    (\"tfidf\", TfidfVectorizer(lowercase=True, stop_words=\"english\", ngram_range=(1,2), min_df=2)),\n",
    "    (\"clf\", LogisticRegression(max_iter=500))\n",
    "])\n",
    "\n",
    "pipe_svc = Pipeline([\n",
    "    (\"tfidf\", TfidfVectorizer(lowercase=True, stop_words=\"english\", ngram_range=(1,2), min_df=2)),\n",
    "    (\"clf\", LinearSVC())\n",
    "])\n",
    "\n",
    "pipe_lr.fit(X_train, y_train)\n",
    "pipe_svc.fit(X_train, y_train)\n",
    "\n",
    "print(\"\\nAccuracy (train/test)\")\n",
    "print(\"  LogisticRegression:\", round(pipe_lr.score(X_train, y_train), 3), \"/\", round(pipe_lr.score(X_test, y_test), 3))\n",
    "print(\"  LinearSVC        :\", round(pipe_svc.score(X_train, y_train), 3), \"/\", round(pipe_svc.score(X_test, y_test), 3))\n",
    "\n"
   ]
  },
  {
   "cell_type": "code",
   "execution_count": 29,
   "id": "27124183",
   "metadata": {},
   "outputs": [
    {
     "name": "stdout",
     "output_type": "stream",
     "text": [
      "\n",
      "=== Logistic Regression ===\n",
      "              precision    recall  f1-score   support\n",
      "\n",
      "          ai      1.000     1.000     1.000       101\n",
      "       human      1.000     1.000     1.000        99\n",
      "\n",
      "    accuracy                          1.000       200\n",
      "   macro avg      1.000     1.000     1.000       200\n",
      "weighted avg      1.000     1.000     1.000       200\n",
      "\n"
     ]
    },
    {
     "data": {
      "image/png": "[encoded data removed]",
      "text/plain": [
       "<Figure size 640x480 with 2 Axes>"
      ]
     },
     "metadata": {},
     "output_type": "display_data"
    },
    {
     "name": "stdout",
     "output_type": "stream",
     "text": [
      "\n",
      "=== Linear SVC ===\n",
      "              precision    recall  f1-score   support\n",
      "\n",
      "          ai      1.000     1.000     1.000       101\n",
      "       human      1.000     1.000     1.000        99\n",
      "\n",
      "    accuracy                          1.000       200\n",
      "   macro avg      1.000     1.000     1.000       200\n",
      "weighted avg      1.000     1.000     1.000       200\n",
      "\n"
     ]
    },
    {
     "data": {
      "image/png": "[encoded data removed]",
      "text/plain": [
       "<Figure size 640x480 with 2 Axes>"
      ]
     },
     "metadata": {},
     "output_type": "display_data"
    }
   ],
   "source": [
    "# evaluation helper\n",
    "def evaluate(model, X_te, y_te, title):\n",
    "    preds = model.predict(X_te)\n",
    "    print(f\"\\n=== {title} ===\")\n",
    "    print(classification_report(y_te, preds, digits=3))\n",
    "    cm = confusion_matrix(y_te, preds, labels=[\"human\",\"ai\"])\n",
    "    sns.heatmap(cm, annot=True, fmt=\"d\", xticklabels=[\"human\",\"ai\"], yticklabels=[\"human\",\"ai\"])\n",
    "    plt.title(f\"Confusion Matrix — {title}\")\n",
    "    plt.ylabel(\"True\"); plt.xlabel(\"Predicted\")\n",
    "    plt.show()\n",
    "\n",
    "evaluate(pipe_lr,  X_test, y_test, \"Logistic Regression\")\n",
    "evaluate(pipe_svc, X_test, y_test, \"Linear SVC\")\n"
   ]
  },
  {
   "cell_type": "code",
   "execution_count": 31,
   "id": "87bfe6de",
   "metadata": {},
   "outputs": [
    {
     "name": "stdout",
     "output_type": "stream",
     "text": [
      "\n",
      "Best CV: 1.0\n",
      "Best params: {'clf__C': 0.25, 'tfidf__min_df': 1, 'tfidf__ngram_range': (1, 1)}\n",
      "Test acc (best): 1.0\n"
     ]
    }
   ],
   "source": [
    "# tuning\n",
    "grid = {\n",
    "    \"tfidf__ngram_range\": [(1,1), (1,2)],\n",
    "    \"tfidf__min_df\": [1, 2, 3],\n",
    "    \"clf__C\": [0.25, 1.0, 2.0, 4.0],\n",
    "}\n",
    "gs = GridSearchCV(pipe_svc, grid, scoring=\"accuracy\", cv=5, n_jobs=-1)\n",
    "gs.fit(X_train, y_train)\n",
    "\n",
    "print(\"\\nBest CV:\", round(gs.best_score_, 4))\n",
    "print(\"Best params:\", gs.best_params_)\n",
    "print(\"Test acc (best):\", round(gs.best_estimator_.score(X_test, y_test), 4))\n",
    "\n",
    "best_model = gs.best_estimator_"
   ]
  },
  {
   "cell_type": "code",
   "execution_count": null,
   "id": "c0d63748",
   "metadata": {},
   "outputs": [
    {
     "name": "stdout",
     "output_type": "stream",
     "text": [
      "Classes order: ['ai' 'human']\n",
      "\n",
      "Top n-grams → human:\n",
      " [('written', np.float64(1.229)), ('human', np.float64(1.229)), ('interview', np.float64(0.38)), ('researcher', np.float64(0.38)), ('text', np.float64(0.357)), ('essay', np.float64(0.285)), ('personal', np.float64(0.285)), ('programming', np.float64(0.285)), ('report', np.float64(0.234)), ('conference', np.float64(0.234)), ('industry', np.float64(0.234)), ('society', np.float64(0.212)), ('impact', np.float64(0.212)), ('editorial', np.float64(0.212)), ('technology', np.float64(0.212))]\n",
      "\n",
      "Top n-grams → ai:\n",
      " [('generated', np.float64(-1.217)), ('content', np.float64(-0.609)), ('ai', np.float64(-0.471)), ('neural', np.float64(-0.306)), ('work', np.float64(-0.306)), ('networks', np.float64(-0.306)), ('deep', np.float64(-0.288)), ('explain', np.float64(-0.288)), ('benefits', np.float64(-0.288)), ('claude', np.float64(-0.282)), ('chatgpt', np.float64(-0.278)), ('gpt', np.float64(-0.277)), ('bard', np.float64(-0.272)), ('article', np.float64(-0.265)), ('write', np.float64(-0.265))]\n"
     ]
    }
   ],
   "source": [
    "# top n grams\n",
    "vect = best_model.named_steps[\"tfidf\"]\n",
    "clf  = best_model.named_steps[\"clf\"]\n",
    "\n",
    "feature_names = np.array(vect.get_feature_names_out())\n",
    "coefs = clf.coef_[0]\n",
    "classes = clf.classes_\n",
    "print(\"Classes order:\", classes)\n",
    "\n",
    "top_pos = np.argsort(coefs)[-15:][::-1]  # toward classes[1]\n",
    "top_neg = np.argsort(coefs)[:15]         # toward classes[0]\n",
    "\n",
    "print(f\"\\nTop n-grams → {classes[1]}:\\n\", list(zip(feature_names[top_pos], np.round(coefs[top_pos], 3))))\n",
    "print(f\"\\nTop n-grams → {classes[0]}:\\n\", list(zip(feature_names[top_neg], np.round(coefs[top_neg], 3))))"
   ]
  },
  {
   "cell_type": "code",
   "execution_count": 35,
   "id": "85b9716e",
   "metadata": {},
   "outputs": [
    {
     "name": "stdout",
     "output_type": "stream",
     "text": [
      "\n",
      "Saved model → ai_human_text_detector.joblib\n",
      "\n",
      "Sample prediction: human\n"
     ]
    }
   ],
   "source": [
    "#finalize\n",
    "joblib.dump(best_model, \"ai_human_text_detector.joblib\")\n",
    "print(\"\\nSaved model → ai_human_text_detector.joblib\")\n",
    "\n",
    "def predict_text(txt: str):\n",
    "    mdl = joblib.load(\"ai_human_text_detector.joblib\")\n",
    "    return mdl.predict([txt])[0]\n",
    "\n",
    "print(\"\\nSample prediction:\", predict_text(\"In this essay, we will carefully explore the multifaceted dimensions of innovation across history.\"))\n"
   ]
  }
 ],
 "metadata": {
  "kernelspec": {
   "display_name": "base",
   "language": "python",
   "name": "python3"
  },
  "language_info": {
   "codemirror_mode": {
    "name": "ipython",
    "version": 3
   },
   "file_extension": ".py",
   "mimetype": "text/x-python",
   "name": "python",
   "nbconvert_exporter": "python",
   "pygments_lexer": "ipython3",
   "version": "3.12.4"
  }
 },
 "nbformat": 4,
 "nbformat_minor": 5
}

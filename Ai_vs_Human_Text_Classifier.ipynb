{
  "cells": [
    {
      "cell_type": "markdown",
      "id": "ace185bb",
      "metadata": {},
      "source": [
        "# AI vs Human Text Classifier (Portfolio-Ready)\n",
        "\n",
        "Classify text as **AI-generated** vs **Human-written** using **TF-IDF** features and linear models (Logistic Regression & Linear SVC).\n",
        "This notebook is designed to be clean, reproducible, and easy to read on GitHub."
      ]
    },
    {
      "cell_type": "markdown",
      "id": "10108839",
      "metadata": {},
      "source": [
        "## Project Overview\n",
        "**Goal:** Build a simple but strong baseline that detects whether text is AI-generated or human-written.\n",
        "\n",
        "**Highlights**\n",
        "- Clear, reproducible pipeline\n",
        "- TF-IDF features with uni/bi-grams\n",
        "- Baseline vs. tuned model comparison\n",
        "- Confusion matrix & metrics\n",
        "- Saved, ready-to-use model"
      ]
    },
    {
      "cell_type": "markdown",
      "id": "ac9fd2d0",
      "metadata": {},
      "source": [
        "## Setup\n",
        "Place the dataset CSV in the same folder as this notebook with the name:\n",
        "```\n",
        "ai_vs_human_text.csv\n",
        "```\n",
        "> Kaggle dataset example: *AI vs Human Text Dataset* by **shamimhasan8**."
      ]
    },
    {
      "cell_type": "code",
      "execution_count": 13,
      "id": "8159bf84",
      "metadata": {},
      "outputs": [],
      "source": [
        "# Imports\n",
        "import numpy as np\n",
        "import pandas as pd\n",
        "import joblib\n",
        "import matplotlib.pyplot as plt\n",
        "import seaborn as sns\n",
        "\n",
        "from sklearn.model_selection import train_test_split, GridSearchCV\n",
        "from sklearn.feature_extraction.text import TfidfVectorizer\n",
        "from sklearn.pipeline import Pipeline\n",
        "from sklearn.linear_model import LogisticRegression\n",
        "from sklearn.svm import LinearSVC\n",
        "from sklearn.metrics import classification_report, confusion_matrix\n",
        "\n",
        "# Make plots a bit cleaner\n",
        "plt.rcParams['figure.figsize'] = (7, 5)\n",
        "plt.rcParams['figure.dpi'] = 120\n",
        "sns.set(style=\"whitegrid\")"
      ]
    },
    {
      "cell_type": "markdown",
      "id": "f52b4bb0",
      "metadata": {},
      "source": [
        "##  Load Data"
      ]
    },
    {
      "cell_type": "code",
      "execution_count": 3,
      "id": "bc6a8a56",
      "metadata": {},
      "outputs": [
        {
          "name": "stdout",
          "output_type": "stream",
          "text": [
            "Loaded: (1000, 6)\n"
          ]
        },
        {
          "data": {
            "text/html": [
              "<div>\n",
              "<style scoped>\n",
              "    .dataframe tbody tr th:only-of-type {\n",
              "        vertical-align: middle;\n",
              "    }\n",
              "\n",
              "    .dataframe tbody tr th {\n",
              "        vertical-align: top;\n",
              "    }\n",
              "\n",
              "    .dataframe thead th {\n",
              "        text-align: right;\n",
              "    }\n",
              "</style>\n",
              "<table border=\"1\" class=\"dataframe\">\n",
              "  <thead>\n",
              "    <tr style=\"text-align: right;\">\n",
              "      <th></th>\n",
              "      <th>id</th>\n",
              "      <th>text</th>\n",
              "      <th>label</th>\n",
              "      <th>prompt</th>\n",
              "      <th>model</th>\n",
              "      <th>date</th>\n",
              "    </tr>\n",
              "  </thead>\n",
              "  <tbody>\n",
              "    <tr>\n",
              "      <th>0</th>\n",
              "      <td>1</td>\n",
              "      <td>AI-generated content sample 1: This is an exam...</td>\n",
              "      <td>AI-generated</td>\n",
              "      <td>Explain the benefits of deep learning.</td>\n",
              "      <td>ChatGPT</td>\n",
              "      <td>2023-11-25</td>\n",
              "    </tr>\n",
              "    <tr>\n",
              "      <th>1</th>\n",
              "      <td>2</td>\n",
              "      <td>AI-generated content sample 2: This is an exam...</td>\n",
              "      <td>AI-generated</td>\n",
              "      <td>Write an article on the future of AI.</td>\n",
              "      <td>Bard</td>\n",
              "      <td>2024-11-15</td>\n",
              "    </tr>\n",
              "    <tr>\n",
              "      <th>2</th>\n",
              "      <td>3</td>\n",
              "      <td>Human-written text sample 3: This is an exampl...</td>\n",
              "      <td>Human-written</td>\n",
              "      <td>Editorial on the impact of technology in society.</td>\n",
              "      <td>Human</td>\n",
              "      <td>2024-08-11</td>\n",
              "    </tr>\n",
              "    <tr>\n",
              "      <th>3</th>\n",
              "      <td>4</td>\n",
              "      <td>AI-generated content sample 4: This is an exam...</td>\n",
              "      <td>AI-generated</td>\n",
              "      <td>Describe how neural networks work.</td>\n",
              "      <td>Claude</td>\n",
              "      <td>2024-04-27</td>\n",
              "    </tr>\n",
              "    <tr>\n",
              "      <th>4</th>\n",
              "      <td>5</td>\n",
              "      <td>Human-written text sample 5: This is an exampl...</td>\n",
              "      <td>Human-written</td>\n",
              "      <td>Personal essay on learning programming.</td>\n",
              "      <td>Human</td>\n",
              "      <td>2024-08-15</td>\n",
              "    </tr>\n",
              "  </tbody>\n",
              "</table>\n",
              "</div>"
            ],
            "text/plain": [
              "   id                                               text          label  \\\n",
              "0   1  AI-generated content sample 1: This is an exam...   AI-generated   \n",
              "1   2  AI-generated content sample 2: This is an exam...   AI-generated   \n",
              "2   3  Human-written text sample 3: This is an exampl...  Human-written   \n",
              "3   4  AI-generated content sample 4: This is an exam...   AI-generated   \n",
              "4   5  Human-written text sample 5: This is an exampl...  Human-written   \n",
              "\n",
              "                                              prompt    model        date  \n",
              "0             Explain the benefits of deep learning.  ChatGPT  2023-11-25  \n",
              "1              Write an article on the future of AI.     Bard  2024-11-15  \n",
              "2  Editorial on the impact of technology in society.    Human  2024-08-11  \n",
              "3                 Describe how neural networks work.   Claude  2024-04-27  \n",
              "4            Personal essay on learning programming.    Human  2024-08-15  "
            ]
          },
          "execution_count": 3,
          "metadata": {},
          "output_type": "execute_result"
        }
      ],
      "source": [
        "# Adjust the path if needed\n",
        "FILE_PATH = \"/Users/miladutton/Desktop/CSS/Python/AiText/ai_vs_human_text.csv\"\n",
        "\n",
        "df_raw = pd.read_csv(FILE_PATH)\n",
        "print(\"Loaded:\", df_raw.shape)\n",
        "df_raw.head()"
      ]
    },
    {
      "cell_type": "markdown",
      "id": "29e52ef8",
      "metadata": {},
      "source": [
        "## Quick Data Check"
      ]
    },
    {
      "cell_type": "code",
      "execution_count": 4,
      "id": "555e71e0",
      "metadata": {},
      "outputs": [
        {
          "name": "stdout",
          "output_type": "stream",
          "text": [
            "<class 'pandas.core.frame.DataFrame'>\n",
            "RangeIndex: 1000 entries, 0 to 999\n",
            "Data columns (total 6 columns):\n",
            " #   Column  Non-Null Count  Dtype \n",
            "---  ------  --------------  ----- \n",
            " 0   id      1000 non-null   int64 \n",
            " 1   text    1000 non-null   object\n",
            " 2   label   1000 non-null   object\n",
            " 3   prompt  1000 non-null   object\n",
            " 4   model   1000 non-null   object\n",
            " 5   date    1000 non-null   object\n",
            "dtypes: int64(1), object(5)\n",
            "memory usage: 47.0+ KB\n"
          ]
        },
        {
          "data": {
            "text/html": [
              "<div>\n",
              "<style scoped>\n",
              "    .dataframe tbody tr th:only-of-type {\n",
              "        vertical-align: middle;\n",
              "    }\n",
              "\n",
              "    .dataframe tbody tr th {\n",
              "        vertical-align: top;\n",
              "    }\n",
              "\n",
              "    .dataframe thead th {\n",
              "        text-align: right;\n",
              "    }\n",
              "</style>\n",
              "<table border=\"1\" class=\"dataframe\">\n",
              "  <thead>\n",
              "    <tr style=\"text-align: right;\">\n",
              "      <th></th>\n",
              "      <th>id</th>\n",
              "      <th>text</th>\n",
              "      <th>label</th>\n",
              "      <th>prompt</th>\n",
              "      <th>model</th>\n",
              "      <th>date</th>\n",
              "    </tr>\n",
              "  </thead>\n",
              "  <tbody>\n",
              "    <tr>\n",
              "      <th>521</th>\n",
              "      <td>522</td>\n",
              "      <td>Human-written text sample 522: This is an exam...</td>\n",
              "      <td>Human-written</td>\n",
              "      <td>Interview with an AI researcher.</td>\n",
              "      <td>Human</td>\n",
              "      <td>2025-05-14</td>\n",
              "    </tr>\n",
              "    <tr>\n",
              "      <th>737</th>\n",
              "      <td>738</td>\n",
              "      <td>Human-written text sample 738: This is an exam...</td>\n",
              "      <td>Human-written</td>\n",
              "      <td>Interview with an AI researcher.</td>\n",
              "      <td>Human</td>\n",
              "      <td>2024-12-10</td>\n",
              "    </tr>\n",
              "    <tr>\n",
              "      <th>740</th>\n",
              "      <td>741</td>\n",
              "      <td>AI-generated content sample 741: This is an ex...</td>\n",
              "      <td>AI-generated</td>\n",
              "      <td>Generate a creative story about machine learning.</td>\n",
              "      <td>Claude</td>\n",
              "      <td>2024-06-21</td>\n",
              "    </tr>\n",
              "    <tr>\n",
              "      <th>660</th>\n",
              "      <td>661</td>\n",
              "      <td>AI-generated content sample 661: This is an ex...</td>\n",
              "      <td>AI-generated</td>\n",
              "      <td>Describe how neural networks work.</td>\n",
              "      <td>ChatGPT</td>\n",
              "      <td>2024-10-31</td>\n",
              "    </tr>\n",
              "    <tr>\n",
              "      <th>411</th>\n",
              "      <td>412</td>\n",
              "      <td>Human-written text sample 412: This is an exam...</td>\n",
              "      <td>Human-written</td>\n",
              "      <td>Personal essay on learning programming.</td>\n",
              "      <td>Human</td>\n",
              "      <td>2025-06-16</td>\n",
              "    </tr>\n",
              "  </tbody>\n",
              "</table>\n",
              "</div>"
            ],
            "text/plain": [
              "      id                                               text          label  \\\n",
              "521  522  Human-written text sample 522: This is an exam...  Human-written   \n",
              "737  738  Human-written text sample 738: This is an exam...  Human-written   \n",
              "740  741  AI-generated content sample 741: This is an ex...   AI-generated   \n",
              "660  661  AI-generated content sample 661: This is an ex...   AI-generated   \n",
              "411  412  Human-written text sample 412: This is an exam...  Human-written   \n",
              "\n",
              "                                                prompt    model        date  \n",
              "521                   Interview with an AI researcher.    Human  2025-05-14  \n",
              "737                   Interview with an AI researcher.    Human  2024-12-10  \n",
              "740  Generate a creative story about machine learning.   Claude  2024-06-21  \n",
              "660                 Describe how neural networks work.  ChatGPT  2024-10-31  \n",
              "411            Personal essay on learning programming.    Human  2025-06-16  "
            ]
          },
          "execution_count": 4,
          "metadata": {},
          "output_type": "execute_result"
        }
      ],
      "source": [
        "df_raw.info()\n",
        "df_raw.sample(5, random_state=42)"
      ]
    },
    {
      "cell_type": "markdown",
      "id": "762157c1",
      "metadata": {},
      "source": [
        "## Clean & Normalize\n",
        "We keep only `text` and `label` columns and map labels to `ai` / `human`."
      ]
    },
    {
      "cell_type": "code",
      "execution_count": 5,
      "id": "c5c8d501",
      "metadata": {},
      "outputs": [
        {
          "name": "stdout",
          "output_type": "stream",
          "text": [
            "Class balance:\n",
            " label\n",
            "ai       507\n",
            "human    493\n",
            "Name: count, dtype: int64\n",
            "Clean shape: (1000, 2)\n"
          ]
        }
      ],
      "source": [
        "# Expect columns: 'text', 'label' with values like 'AI-generated' / 'Human-written'\n",
        "assert {'text','label'}.issubset(df_raw.columns), \"Expected 'text' and 'label' columns.\"\n",
        "\n",
        "df = df_raw[['text','label']].copy()\n",
        "\n",
        "# Standardize labels\n",
        "df['label'] = (\n",
        "    df['label'].astype(str).str.strip().str.lower()\n",
        "      .map({'ai-generated':'ai', 'human-written':'human', 'ai':'ai', 'human':'human'})\n",
        ")\n",
        "\n",
        "# Drop missing or too short\n",
        "df = df.dropna(subset=['text','label'])\n",
        "df['text'] = df['text'].astype(str).str.strip()\n",
        "df = df[df['text'].str.len() >= 5]\n",
        "\n",
        "print(\"Class balance:\\n\", df['label'].value_counts())\n",
        "print(\"Clean shape:\", df.shape)"
      ]
    },
    {
      "cell_type": "markdown",
      "id": "7344a145",
      "metadata": {},
      "source": [
        "##  Train / Test Split"
      ]
    },
    {
      "cell_type": "code",
      "execution_count": 6,
      "id": "75a57f31",
      "metadata": {},
      "outputs": [
        {
          "name": "stdout",
          "output_type": "stream",
          "text": [
            "Train/Test sizes: 800 / 200\n"
          ]
        }
      ],
      "source": [
        "X_train, X_test, y_train, y_test = train_test_split(\n",
        "    df['text'], df['label'],\n",
        "    test_size=0.2, random_state=42, stratify=df['label']\n",
        ")\n",
        "print(f\"Train/Test sizes: {len(X_train)} / {len(X_test)}\")"
      ]
    },
    {
      "cell_type": "markdown",
      "id": "1580659d",
      "metadata": {},
      "source": [
        "## Baseline Models\n",
        "Train **Logistic Regression** and **Linear SVC** with the same TF‑IDF features."
      ]
    },
    {
      "cell_type": "code",
      "execution_count": 7,
      "id": "5729f895",
      "metadata": {},
      "outputs": [
        {
          "name": "stdout",
          "output_type": "stream",
          "text": [
            "Accuracy (train/test)\n",
            "  LogisticRegression: 1.0 / 1.0\n",
            "  LinearSVC        : 1.0 / 1.0\n"
          ]
        }
      ],
      "source": [
        "pipe_lr = Pipeline([\n",
        "    (\"tfidf\", TfidfVectorizer(lowercase=True, stop_words=\"english\", ngram_range=(1,2), min_df=2)),\n",
        "    (\"clf\", LogisticRegression(max_iter=500))\n",
        "])\n",
        "\n",
        "pipe_svc = Pipeline([\n",
        "    (\"tfidf\", TfidfVectorizer(lowercase=True, stop_words=\"english\", ngram_range=(1,2), min_df=2)),\n",
        "    (\"clf\", LinearSVC())\n",
        "])\n",
        "\n",
        "pipe_lr.fit(X_train, y_train)\n",
        "pipe_svc.fit(X_train, y_train)\n",
        "\n",
        "print(\"Accuracy (train/test)\")\n",
        "print(\"  LogisticRegression:\", round(pipe_lr.score(X_train, y_train),3), \"/\", round(pipe_lr.score(X_test, y_test),3))\n",
        "print(\"  LinearSVC        :\", round(pipe_svc.score(X_train, y_train),3), \"/\", round(pipe_svc.score(X_test, y_test),3))"
      ]
    },
    {
      "cell_type": "markdown",
      "id": "bed7b13e",
      "metadata": {},
      "source": [
        "## Evaluation\n",
        "Classification report and confusion matrix for both models."
      ]
    },
    {
      "cell_type": "code",
      "execution_count": 8,
      "id": "33f93901",
      "metadata": {},
      "outputs": [
        {
          "name": "stdout",
          "output_type": "stream",
          "text": [
            "\n",
            "=== Logistic Regression (baseline) ===\n",
            "              precision    recall  f1-score   support\n",
            "\n",
            "          ai      1.000     1.000     1.000       101\n",
            "       human      1.000     1.000     1.000        99\n",
            "\n",
            "    accuracy                          1.000       200\n",
            "   macro avg      1.000     1.000     1.000       200\n",
            "weighted avg      1.000     1.000     1.000       200\n",
            "\n"
          ]
        },
        {
          "data": {
            "image/png": "[encoded data removed]",
            "text/plain": [
              "<Figure size 840x600 with 2 Axes>"
            ]
          },
          "metadata": {},
          "output_type": "display_data"
        },
        {
          "name": "stdout",
          "output_type": "stream",
          "text": [
            "\n",
            "=== Linear SVC (baseline) ===\n",
            "              precision    recall  f1-score   support\n",
            "\n",
            "          ai      1.000     1.000     1.000       101\n",
            "       human      1.000     1.000     1.000        99\n",
            "\n",
            "    accuracy                          1.000       200\n",
            "   macro avg      1.000     1.000     1.000       200\n",
            "weighted avg      1.000     1.000     1.000       200\n",
            "\n"
          ]
        },
        {
          "data": {
            "image/png": "[encoded data removed]",
            "text/plain": [
              "<Figure size 840x600 with 2 Axes>"
            ]
          },
          "metadata": {},
          "output_type": "display_data"
        }
      ],
      "source": [
        "def evaluate(model, X_te, y_te, title):\n",
        "    preds = model.predict(X_te)\n",
        "    print(f\"\\n=== {title} ===\")\n",
        "    print(classification_report(y_te, preds, digits=3))\n",
        "    cm = confusion_matrix(y_te, preds, labels=['human','ai'])\n",
        "    ax = sns.heatmap(cm, annot=True, fmt='d', xticklabels=['human','ai'], yticklabels=['human','ai'])\n",
        "    ax.set_title(f'Confusion Matrix — {title}')\n",
        "    ax.set_xlabel('Predicted')\n",
        "    ax.set_ylabel('True')\n",
        "    plt.show()\n",
        "\n",
        "evaluate(pipe_lr,  X_test, y_test, \"Logistic Regression (baseline)\")\n",
        "evaluate(pipe_svc, X_test, y_test, \"Linear SVC (baseline)\")"
      ]
    },
    {
      "cell_type": "markdown",
      "id": "b52bd275",
      "metadata": {},
      "source": [
        "##  Hyperparameter Tuning (Linear SVC)\n",
        "We tune `C`, `min_df`, and the n‑gram range."
      ]
    },
    {
      "cell_type": "code",
      "execution_count": 12,
      "id": "69fcc530",
      "metadata": {},
      "outputs": [
        {
          "name": "stdout",
          "output_type": "stream",
          "text": [
            "Best CV: 1.0\n",
            "Best params: {'clf__C': 0.25, 'tfidf__min_df': 1, 'tfidf__ngram_range': (1, 1)}\n",
            "Test acc (best): 1.0\n"
          ]
        }
      ],
      "source": [
        "grid = {\n",
        "    \"tfidf__ngram_range\": [(1,1),(1,2)],\n",
        "    \"tfidf__min_df\": [1,2,3],\n",
        "    \"clf__C\": [0.25, 1.0, 2.0, 4.0],\n",
        "}\n",
        "\n",
        "gs = GridSearchCV(pipe_svc, grid, scoring='accuracy', cv=5, n_jobs=-1)\n",
        "gs.fit(X_train, y_train)\n",
        "\n",
        "print(\"Best CV:\", round(gs.best_score_, 4))\n",
        "print(\"Best params:\", gs.best_params_)\n",
        "print(\"Test acc (best):\", round(gs.best_estimator_.score(X_test, y_test), 4))\n",
        "\n",
        "best_model = gs.best_estimator_"
      ]
    },
    {
      "cell_type": "markdown",
      "id": "9af58ece",
      "metadata": {},
      "source": [
        "## Most Informative N‑grams\n",
        "Peek at which n‑grams push the model toward each class."
      ]
    },
    {
      "cell_type": "code",
      "execution_count": 10,
      "id": "de88d644",
      "metadata": {},
      "outputs": [
        {
          "name": "stdout",
          "output_type": "stream",
          "text": [
            "Classes order: ['ai' 'human']\n",
            "\n",
            "Top n-grams → human:\n",
            " [('written', np.float64(1.229)), ('human', np.float64(1.229)), ('researcher', np.float64(0.38)), ('interview', np.float64(0.38)), ('text', np.float64(0.357)), ('personal', np.float64(0.285)), ('programming', np.float64(0.285)), ('essay', np.float64(0.285)), ('conference', np.float64(0.234)), ('report', np.float64(0.234)), ('industry', np.float64(0.234)), ('society', np.float64(0.212)), ('editorial', np.float64(0.212)), ('impact', np.float64(0.212)), ('technology', np.float64(0.212))]\n",
            "\n",
            "Top n-grams → ai:\n",
            " [('generated', np.float64(-1.217)), ('content', np.float64(-0.609)), ('ai', np.float64(-0.471)), ('work', np.float64(-0.306)), ('networks', np.float64(-0.306)), ('neural', np.float64(-0.306)), ('benefits', np.float64(-0.288)), ('deep', np.float64(-0.288)), ('explain', np.float64(-0.288)), ('claude', np.float64(-0.282)), ('chatgpt', np.float64(-0.278)), ('gpt', np.float64(-0.277)), ('bard', np.float64(-0.272)), ('write', np.float64(-0.265)), ('article', np.float64(-0.265))]\n"
          ]
        }
      ],
      "source": [
        "# Works for linear models with TF-IDF\n",
        "vect = best_model.named_steps['tfidf']\n",
        "clf  = best_model.named_steps['clf']\n",
        "\n",
        "feature_names = np.array(vect.get_feature_names_out())\n",
        "coefs = clf.coef_[0]\n",
        "classes = clf.classes_\n",
        "print(\"Classes order:\", classes)\n",
        "\n",
        "top_pos = np.argsort(coefs)[-15:][::-1]  # toward classes[1]\n",
        "top_neg = np.argsort(coefs)[:15]         # toward classes[0]\n",
        "\n",
        "print(f\"\\nTop n-grams → {classes[1]}:\\n\", list(zip(feature_names[top_pos], np.round(coefs[top_pos], 3))))\n",
        "print(f\"\\nTop n-grams → {classes[0]}:\\n\", list(zip(feature_names[top_neg], np.round(coefs[top_neg], 3))))"
      ]
    },
    {
      "cell_type": "markdown",
      "id": "feb74e39",
      "metadata": {},
      "source": [
        "##  Save & Inference"
      ]
    },
    {
      "cell_type": "code",
      "execution_count": 11,
      "id": "8ea22844",
      "metadata": {},
      "outputs": [
        {
          "name": "stdout",
          "output_type": "stream",
          "text": [
            "Saved → ai_human_text_detector.joblib\n",
            "Sample prediction: human\n"
          ]
        }
      ],
      "source": [
        "joblib.dump(best_model, \"ai_human_text_detector.joblib\")\n",
        "print(\"Saved → ai_human_text_detector.joblib\")\n",
        "\n",
        "def predict_text(txt: str):\n",
        "    mdl = joblib.load(\"ai_human_text_detector.joblib\")\n",
        "    return mdl.predict([txt])[0]\n",
        "\n",
        "print(\"Sample prediction:\", predict_text(\"In this essay, we will carefully explore the multifaceted dimensions of innovation across history.\"))"
      ]
    }
  ],
  "metadata": {
    "kernelspec": {
      "display_name": "base",
      "language": "python",
      "name": "python3"
    },
    "language_info": {
      "codemirror_mode": {
        "name": "ipython",
        "version": 3
      },
      "file_extension": ".py",
      "mimetype": "text/x-python",
      "name": "python",
      "nbconvert_exporter": "python",
      "pygments_lexer": "ipython3",
      "version": "3.12.4"
    }
  },
  "nbformat": 4,
  "nbformat_minor": 5
}
